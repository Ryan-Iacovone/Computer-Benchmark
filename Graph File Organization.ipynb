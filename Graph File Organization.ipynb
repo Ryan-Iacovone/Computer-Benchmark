{
 "cells": [
  {
   "cell_type": "code",
   "execution_count": 1,
   "metadata": {},
   "outputs": [
    {
     "name": "stdout",
     "output_type": "stream",
     "text": [
      "90 files successfully moved\n"
     ]
    }
   ],
   "source": [
    "# Code to organize my gaming benchmark graphs based on the specific game benchmark \n",
    "\n",
    "import os\n",
    "\n",
    "# specify the directory to search\n",
    "directory = r\"C:\\Users\\Ryan\\Coding Projects\\Computer Benchmark\\unsorted game graphs\"\n",
    "\n",
    "#specify the directory to save the clips to \n",
    "directory_save = r\"C:\\Users\\Ryan\\Coding Projects\\Computer Benchmark\\Game Graphs\"\n",
    "\n",
    "# specify the substrings to search for\n",
    "games = [\"overwatch\", \"destiny\", \"r6\", \"gtav\", \"apex\", \"rocket_league\", \"battlefront\", \"halo\", \"fortnite\", \"cod\"]\n",
    "\n",
    "# create destination directories (folders) for each of the games I want to sort by \n",
    "#When exist_ok is set to True in os.makedirs() function, os.makedirs() will not raise an error if the directory already exists and will do nothing instead. \n",
    "#   This means that you can call os.makedirs() with exist_ok=True multiple times, and it will only create the directory if it does not already exist.\n",
    "#However, to still know the code is working, I replaced it with a try and except block to let me know it still ran correctly \n",
    "\n",
    "for game in games:\n",
    "    os.makedirs(directory_save + '\\\\' + game, exist_ok = True) \n",
    "\n",
    "#initalizing count object to see how many files were moved \n",
    "count = 0\n",
    "\n",
    "# iterate through files in the directory\n",
    "\n",
    "for filename in os.listdir(directory):\n",
    "    for game in games:\n",
    "        if game in filename:\n",
    "            # move the file to the corresponding directory\n",
    "            os.rename(directory + '\\\\' + filename, directory_save + '\\\\' + game + '\\\\' + filename)\n",
    "            count += 1\n",
    "\n",
    "if count == 0:\n",
    "    raise Exception(\"No files were moved\")\n",
    "else: \n",
    "    print(f\"{count} files successfully moved\")"
   ]
  },
  {
   "cell_type": "code",
   "execution_count": 2,
   "metadata": {},
   "outputs": [
    {
     "name": "stdout",
     "output_type": "stream",
     "text": [
      "32 files successfully moved\n"
     ]
    }
   ],
   "source": [
    "#Code to organize my synthetic graphs based on the synthetic benchmark \n",
    "\n",
    "import os\n",
    "\n",
    "# specify the directory to search\n",
    "directory = r\"C:\\Users\\Ryan\\Coding Projects\\Computer Benchmark\\unsorted synthetic graphs\"\n",
    "\n",
    "#specify the directory to save the clips to \n",
    "directory_save = r\"C:\\Users\\Ryan\\Coding Projects\\Computer Benchmark\\Synthetic Graphs\"\n",
    "\n",
    "# specify the substrings to search for\n",
    "synthetics = [\"Timespy\", \"Heaven\", \"Cinebench\", \"Firestrike\"]\n",
    "\n",
    "# create destination directories (folders) for each of the games I want to sort by \n",
    "#When exist_ok is set to True in os.makedirs() function, os.makedirs() will not raise an error if the directory already exists and will do nothing instead. \n",
    "#   This means that you can call os.makedirs() with exist_ok=True multiple times, and it will only create the directory if it does not already exist.\n",
    "#However, to still know the code is working, I replaced it with a try and except block to let me know it still ran correctly \n",
    "\n",
    "for synthetic in synthetics:\n",
    "    os.makedirs(directory_save + '\\\\' + synthetic, exist_ok = True) \n",
    "\n",
    "#initalizing count object to see how many files were moved \n",
    "count = 0\n",
    "\n",
    "# iterate through files in the directory\n",
    "\n",
    "for filename in os.listdir(directory):\n",
    "    for synthetic in synthetics:\n",
    "        if synthetic in filename:\n",
    "            # move the file to the corresponding directory\n",
    "            os.rename(directory + '\\\\' + filename, directory_save + '\\\\' + synthetic + '\\\\' + filename)\n",
    "            count += 1\n",
    "\n",
    "if count == 0:\n",
    "    raise Exception(\"No files were moved\")\n",
    "else: \n",
    "    print(f\"{count} files successfully moved\")"
   ]
  }
 ],
 "metadata": {
  "kernelspec": {
   "display_name": "Python 3",
   "language": "python",
   "name": "python3"
  },
  "language_info": {
   "codemirror_mode": {
    "name": "ipython",
    "version": 3
   },
   "file_extension": ".py",
   "mimetype": "text/x-python",
   "name": "python",
   "nbconvert_exporter": "python",
   "pygments_lexer": "ipython3",
   "version": "3.10.11"
  },
  "orig_nbformat": 4,
  "vscode": {
   "interpreter": {
    "hash": "7959011f7c65b6277518dac78edd11ca4ca331adbf641f303d55a67ad931e17d"
   }
  }
 },
 "nbformat": 4,
 "nbformat_minor": 2
}
